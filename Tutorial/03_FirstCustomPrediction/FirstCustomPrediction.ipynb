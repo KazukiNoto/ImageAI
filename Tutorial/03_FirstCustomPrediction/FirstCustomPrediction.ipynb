{
 "metadata": {
  "language_info": {
   "codemirror_mode": {
    "name": "ipython",
    "version": 3
   },
   "file_extension": ".py",
   "mimetype": "text/x-python",
   "name": "python",
   "nbconvert_exporter": "python",
   "pygments_lexer": "ipython3",
   "version": "3.5.10-final"
  },
  "orig_nbformat": 2,
  "kernelspec": {
   "name": "Python 3.5.10 64-bit",
   "display_name": "Python 3.5.10 64-bit",
   "metadata": {
    "interpreter": {
     "hash": "4cd7ab41f5fca4b9b44701077e38c5ffd31fe66a6cab21e0214b68d958d0e462"
    }
   }
  }
 },
 "nbformat": 4,
 "nbformat_minor": 2,
 "cells": [
  {
   "cell_type": "code",
   "execution_count": 3,
   "metadata": {},
   "outputs": [
    {
     "output_type": "stream",
     "name": "stdout",
     "text": [
      "/workspaces/ImageAI/Tutorial/03_FirstCustomPrediction\n",
      "pilot : 36.556339263916016\n",
      "chef : 26.058894395828247\n",
      "judge : 17.510725557804108\n",
      "mechanic : 9.170589596033096\n",
      "waiter : 5.585519224405289\n"
     ]
    }
   ],
   "source": [
    "from imageai.Prediction.Custom import CustomImagePrediction\n",
    "import os\n",
    "\n",
    "execution_path = os.getcwd()\n",
    "print(execution_path)\n",
    "\n",
    "prediction = CustomImagePrediction()\n",
    "prediction.setModelTypeAsResNet()\n",
    "prediction.setModelPath(os.path.join(execution_path, \"model_ex-039_acc-0.325000.h5\"))\n",
    "prediction.setJsonPath(os.path.join(execution_path, \"model_class.json\"))\n",
    "prediction.loadModel(num_objects=10)\n",
    "\n",
    "predictions, probabilities = prediction.predictImage(os.path.join(execution_path, \"4.jpg\"), result_count=5)\n",
    "\n",
    "for eachPrediction, eachProbability in zip(predictions, probabilities):\n",
    "    print(\"{} : {}\".format(eachPrediction,eachProbability))"
   ]
  },
  {
   "cell_type": "code",
   "execution_count": null,
   "metadata": {},
   "outputs": [],
   "source": []
  }
 ]
}