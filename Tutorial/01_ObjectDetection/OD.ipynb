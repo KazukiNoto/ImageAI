{
 "metadata": {
  "language_info": {
   "codemirror_mode": {
    "name": "ipython",
    "version": 3
   },
   "file_extension": ".py",
   "mimetype": "text/x-python",
   "name": "python",
   "nbconvert_exporter": "python",
   "pygments_lexer": "ipython3",
   "version": "3.5.10-final"
  },
  "orig_nbformat": 2,
  "kernelspec": {
   "name": "Python 3.5.10 64-bit",
   "display_name": "Python 3.5.10 64-bit",
   "metadata": {
    "interpreter": {
     "hash": "4cd7ab41f5fca4b9b44701077e38c5ffd31fe66a6cab21e0214b68d958d0e462"
    }
   }
  }
 },
 "nbformat": 4,
 "nbformat_minor": 2,
 "cells": [
  {
   "cell_type": "code",
   "execution_count": 3,
   "metadata": {},
   "outputs": [],
   "source": [
    "from imageai.Detection import ObjectDetection\n",
    "import os\n",
    "\n",
    "execution_path = os.getcwd()\n",
    "\n",
    "detector = ObjectDetection()\n",
    "detector.setModelTypeAsYOLOv3()\n",
    "detector.setModelPath( os.path.join(execution_path , \"yolo.h5\"))\n",
    "detector.loadModel()\n",
    "detections = detector.detectObjectsFromImage(input_image=os.path.join(execution_path , \"image2.jpg\"), output_image_path=os.path.join(execution_path , \"image2new.jpg\"), minimum_percentage_probability=30)"
   ]
  },
  {
   "cell_type": "code",
   "execution_count": 4,
   "metadata": {},
   "outputs": [
    {
     "output_type": "stream",
     "name": "stdout",
     "text": [
      "laptop  :  87.322336435318  :  [306, 238, 390, 284]\n--------------------------------\nlaptop  :  96.86298966407776  :  [121, 209, 258, 293]\n--------------------------------\nlaptop  :  98.63016605377197  :  [279, 321, 401, 425]\n--------------------------------\nlaptop  :  99.78572726249695  :  [451, 204, 579, 285]\n--------------------------------\nbed  :  94.02393102645874  :  [23, 205, 708, 553]\n--------------------------------\napple  :  48.03134202957153  :  [527, 343, 557, 364]\n--------------------------------\ncup  :  34.099045395851135  :  [462, 347, 496, 379]\n--------------------------------\ncup  :  44.6509063243866  :  [582, 342, 618, 386]\n--------------------------------\nperson  :  57.70217776298523  :  [27, 311, 341, 437]\n--------------------------------\nperson  :  85.26120185852051  :  [304, 173, 387, 253]\n--------------------------------\nperson  :  96.33604288101196  :  [415, 130, 538, 266]\n--------------------------------\nperson  :  96.95255756378174  :  [174, 108, 278, 269]\n--------------------------------\n"
     ]
    }
   ],
   "source": [
    "for eachObject in detections:\n",
    "    print(eachObject[\"name\"] , \" : \", eachObject[\"percentage_probability\"], \" : \", eachObject[\"box_points\"] )\n",
    "    print(\"--------------------------------\")"
   ]
  },
  {
   "cell_type": "code",
   "execution_count": null,
   "metadata": {},
   "outputs": [],
   "source": []
  }
 ]
}