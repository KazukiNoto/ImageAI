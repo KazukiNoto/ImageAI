{
 "metadata": {
  "language_info": {
   "codemirror_mode": {
    "name": "ipython",
    "version": 3
   },
   "file_extension": ".py",
   "mimetype": "text/x-python",
   "name": "python",
   "nbconvert_exporter": "python",
   "pygments_lexer": "ipython3",
   "version": "3.5.10-final"
  },
  "orig_nbformat": 2,
  "kernelspec": {
   "name": "Python 3.5.10 64-bit",
   "display_name": "Python 3.5.10 64-bit",
   "metadata": {
    "interpreter": {
     "hash": "4cd7ab41f5fca4b9b44701077e38c5ffd31fe66a6cab21e0214b68d958d0e462"
    }
   }
  }
 },
 "nbformat": 4,
 "nbformat_minor": 2,
 "cells": [
  {
   "cell_type": "code",
   "execution_count": 3,
   "metadata": {},
   "outputs": [],
   "source": [
    "from imageai.Detection.Custom import CustomObjectDetection\n",
    "\n",
    "detector = CustomObjectDetection()\n",
    "detector.setModelTypeAsYOLOv3()\n",
    "detector.setModelPath(\"hololens-ex-60--loss-2.76.h5\")\n",
    "detector.setJsonPath(\"detection_config.json\")\n",
    "detector.loadModel()\n",
    "detections = detector.detectObjectsFromImage(input_image=\"holo2.jpg\", output_image_path=\"holo2-detected.jpg\")\n"
   ]
  },
  {
   "cell_type": "code",
   "execution_count": 6,
   "metadata": {},
   "outputs": [
    {
     "output_type": "stream",
     "name": "stdout",
     "text": [
      "hololens  :  87.6643180847168  :  [23, 45, 90, 79]\n{'percentage_probability': 87.6643180847168, 'name': 'hololens', 'box_points': [23, 45, 90, 79]}\nhololens  :  89.25175070762634  :  [191, 64, 243, 93]\n{'percentage_probability': 89.25175070762634, 'name': 'hololens', 'box_points': [191, 64, 243, 93]}\nhololens  :  64.49641585350037  :  [437, 76, 514, 127]\n{'percentage_probability': 64.49641585350037, 'name': 'hololens', 'box_points': [437, 76, 514, 127]}\nhololens  :  91.78624749183655  :  [380, 109, 423, 134]\n{'percentage_probability': 91.78624749183655, 'name': 'hololens', 'box_points': [380, 109, 423, 134]}\n"
     ]
    }
   ],
   "source": [
    "for detection in detections:\n",
    "    print(detection[\"name\"], \" : \", detection[\"percentage_probability\"], \" : \", detection[\"box_points\"])\n",
    "    "
   ]
  },
  {
   "cell_type": "code",
   "execution_count": null,
   "metadata": {},
   "outputs": [],
   "source": []
  }
 ]
}