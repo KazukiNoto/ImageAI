{
 "metadata": {
  "language_info": {
   "codemirror_mode": {
    "name": "ipython",
    "version": 3
   },
   "file_extension": ".py",
   "mimetype": "text/x-python",
   "name": "python",
   "nbconvert_exporter": "python",
   "pygments_lexer": "ipython3",
   "version": "3.5.10-final"
  },
  "orig_nbformat": 2,
  "kernelspec": {
   "name": "Python 3.5.10 64-bit",
   "display_name": "Python 3.5.10 64-bit",
   "metadata": {
    "interpreter": {
     "hash": "4cd7ab41f5fca4b9b44701077e38c5ffd31fe66a6cab21e0214b68d958d0e462"
    }
   }
  }
 },
 "nbformat": 4,
 "nbformat_minor": 2,
 "cells": [
  {
   "source": [
    "# ImageAI Tutorial:Image Prediction\n",
    "\n",
    "ImageAIは、画像予測を実行するための4つの異なるアルゴリズムとモデルタイプを提供します。\n",
    "\n",
    "任意の画像に対して画像予測を行うには、以下の簡単な手順を実行します。\n",
    "\n",
    "画像予測のために提供されている4つのアルゴリズムは、SqueezeNet、ResNet、InceptionV3、DenseNetです。\n",
    "\n",
    "これらのアルゴリズムにはそれぞれ個別のモデルファイルがあり、アルゴリズムの選択に応じて使用する必要があります。\n",
    "\n",
    "選択したアルゴリズムのモデルファイルをダウンロードするには、以下のリンクをクリックしてください。\n",
    "\n",
    "- [SqueezeNet (サイズ = 4.82 mb, 最速の予測時間と中程度の精度)](https://github.com/OlafenwaMoses/ImageAI/releases/download/1.0/squeezenet_weights_tf_dim_ordering_tf_kernels.h5)\n",
    "- ResNet50 by Microsoft Research (サイズ = 98 mb、高速予測時間と高精度)\n",
    "- Google BrainチームによるInceptionV3（サイズ＝91.6mb、予測時間が遅く精度が高い\n",
    "- DenseNet121 by Facebook AI Research (サイズ=31.6 mb、予測時間が遅く、最高の精度)\n",
    "\n",
    "すばらしいです! このモデルファイルをダウンロードしたら、新しいPythonプロジェクトを起動し、モデルファイルをプロジェクトフォルダにコピーしてください。\n",
    "\n",
    "下の画像をダウンロードするか、コンピュータ上の任意の画像をコピーしてpythonプロジェクトのフォルダにコピーしてください。次にpythonファイルを作成し、名前を付けます。そして、以下のコードをpythonファイルに書き込んでください。\n",
    "\n",
    "---\n",
    "ImageAI provides 4 different algorithms and model types to perform image prediction. To perform image prediction on any picture, take the following simple steps. The 4 algorithms provided for image prediction include SqueezeNet, ResNet, InceptionV3 and DenseNet. Each of these algorithms have individual model files which you must use depending on the choice of your algorithm. To download the model file for your choice of algorithm, click on any of the links below:\n",
    "\n",
    "SqueezeNet (Size = 4.82 mb, fastest prediction time and moderate accuracy)\n",
    "ResNet50 by Microsoft Research (Size = 98 mb, fast prediction time and high accuracy)\n",
    "InceptionV3 by Google Brain team (Size = 91.6 mb, slow prediction time and higher accuracy)\n",
    "DenseNet121 by Facebook AI Research (Size = 31.6 mb, slower prediction time and highest accuracy)\n",
    "Great! Once you have downloaded this model file, start a new python project, and then copy the model file to your project folder where your python files (.py files) will be . Download the image below, or take any image on your computer and copy it to your python project's folder. Then create a python file and give it a name; an example is FirstPrediction.py. Then write the code below into the python file:\n"
   ],
   "cell_type": "markdown",
   "metadata": {}
  },
  {
   "source": [
    "## 上のリンクのResNet50のモデルをダウンロードする"
   ],
   "cell_type": "markdown",
   "metadata": {}
  },
  {
   "cell_type": "code",
   "execution_count": 9,
   "metadata": {},
   "outputs": [
    {
     "output_type": "execute_result",
     "data": {
      "text/plain": [
       "('squeezenet_weights_tf_dim_ordering_tf_kernels.h5',\n",
       " <http.client.HTTPMessage at 0x7ff4cf4b5978>)"
      ]
     },
     "metadata": {},
     "execution_count": 9
    }
   ],
   "source": [
    "import urllib.request\n",
    "import sys\n",
    "\n",
    "url = \"https://github.com/OlafenwaMoses/ImageAI/releases/download/1.0/resnet50_weights_tf_dim_ordering_tf_kernels.h5\"\n",
    "\n",
    "MODEL_FILE = \"resnet50_weights_tf_dim_ordering_tf_kernels.h5\"\n",
    "\n",
    "urllib.request.urlretrieve(url,\"{0}\".format(MODEL_FILE))"
   ]
  },
  {
   "cell_type": "code",
   "execution_count": 33,
   "metadata": {},
   "outputs": [
    {
     "output_type": "stream",
     "name": "stdout",
     "text": [
      "sports_car  :  28.467440605163574\nconvertible  :  26.238268613815308\nparking_meter  :  8.291912078857422\nminivan  :  5.855252593755722\ncab  :  5.594126880168915\n"
     ]
    }
   ],
   "source": [
    "from imageai.Prediction import ImagePrediction\n",
    "import os\n",
    "\n",
    "execution_path = os.getcwd()\n",
    "\n",
    "prediction = ImagePrediction()\n",
    "prediction.setModelTypeAsResNet()\n",
    "prediction.setModelPath(\"../01_ImagePrediction/\"+MODEL_FILE)\n",
    "prediction.loadModel()\n",
    "\n",
    "predictions, probabilities = prediction.predictImage(\"1.jpg\", result_count=5 )\n",
    "for eachPrediction, eachProbability in zip(predictions, probabilities):\n",
    "    print(eachPrediction , \" : \" , eachProbability)"
   ]
  },
  {
   "cell_type": "code",
   "execution_count": null,
   "metadata": {},
   "outputs": [],
   "source": []
  }
 ]
}