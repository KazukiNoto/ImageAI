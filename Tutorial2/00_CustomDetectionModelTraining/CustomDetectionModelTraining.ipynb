{
 "metadata": {
  "language_info": {
   "codemirror_mode": {
    "name": "ipython",
    "version": 3
   },
   "file_extension": ".py",
   "mimetype": "text/x-python",
   "name": "python",
   "nbconvert_exporter": "python",
   "pygments_lexer": "ipython3",
   "version": 3
  },
  "orig_nbformat": 2
 },
 "nbformat": 4,
 "nbformat_minor": 2,
 "cells": [
  {
   "cell_type": "code",
   "execution_count": null,
   "metadata": {},
   "outputs": [],
   "source": [
    "from imageai.Detection.Custom import DetectionModelTrainer\n",
    "\n",
    "trainer = DetectionModelTrainer()\n",
    "trainer.setModelTypeAsYOLOv3()\n",
    "trainer.setDataDirectory(data_directory=\"hololens\")\n",
    "trainer.setTrainConfig(object_names_array=[\"hololens\"], batch_size=4, num_experiments=200, train_from_pretrained_model=\"pretrained-yolov3.h5\")\n",
    "# In the above,when training for detecting multiple objects,\n",
    "#set object_names_array=[\"object1\", \"object2\", \"object3\",...\"objectz\"]\n",
    "trainer.trainModel()"
   ]
  }
 ]
}