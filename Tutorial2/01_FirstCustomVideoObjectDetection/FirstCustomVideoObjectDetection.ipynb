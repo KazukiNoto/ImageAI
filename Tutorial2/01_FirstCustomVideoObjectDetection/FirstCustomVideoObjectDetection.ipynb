{
 "metadata": {
  "language_info": {
   "codemirror_mode": {
    "name": "ipython",
    "version": 3
   },
   "file_extension": ".py",
   "mimetype": "text/x-python",
   "name": "python",
   "nbconvert_exporter": "python",
   "pygments_lexer": "ipython3",
   "version": "3.5.10-final"
  },
  "orig_nbformat": 2,
  "kernelspec": {
   "name": "Python 3.5.10 64-bit",
   "display_name": "Python 3.5.10 64-bit",
   "metadata": {
    "interpreter": {
     "hash": "4cd7ab41f5fca4b9b44701077e38c5ffd31fe66a6cab21e0214b68d958d0e462"
    }
   }
  }
 },
 "nbformat": 4,
 "nbformat_minor": 2,
 "cells": [
  {
   "cell_type": "code",
   "execution_count": 2,
   "metadata": {
    "tags": []
   },
   "outputs": [
    {
     "output_type": "stream",
     "name": "stdout",
     "text": [
      "/workspaces/ImageAI/Tutorial2/01_FirstCustomVideoObjectDetection\n"
     ]
    }
   ],
   "source": [
    "from imageai.Detection.Custom import CustomVideoObjectDetection\n",
    "import os\n",
    "\n",
    "execution_path = os.getcwd()\n",
    "\n",
    "video_detector = CustomVideoObjectDetection()\n",
    "video_detector.setModelTypeAsYOLOv3()\n",
    "video_detector.setModelPath(\"hololens-ex-60--loss-2.76.h5\")\n",
    "video_detector.setJsonPath(\"detection_config.json\")\n",
    "video_detector.loadModel()\n",
    "\n"
   ]
  },
  {
   "cell_type": "code",
   "execution_count": null,
   "metadata": {},
   "outputs": [],
   "source": [
    "VideoFile = \"itemMov1\"\n",
    "extension = \".mp4\"\n",
    "\n",
    "# input_file_pathを読み込んで、detection後にoutput_file_pathで作成した名前のファイルが作成される\n",
    "video_detector.detectObjectsFromVideo(input_file_path=VideoFile + extension,\n",
    "                                          output_file_path=os.path.join(execution_path, \"video_detected/\", VideoFile,\"-detected\", extension),\n",
    "                                          frames_per_second=20,\n",
    "                                          minimum_percentage_probability=40,\n",
    "                                          log_progress=True)"
   ]
  }
 ]
}